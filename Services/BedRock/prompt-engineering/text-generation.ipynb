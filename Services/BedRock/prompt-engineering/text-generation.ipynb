{
 "cells": [
  {
   "cell_type": "code",
   "execution_count": 9,
   "id": "bb8bc51c-8362-47fb-bca2-490d4cab908e",
   "metadata": {
    "execution": {
     "iopub.execute_input": "2025-06-12T06:07:12.581856Z",
     "iopub.status.busy": "2025-06-12T06:07:12.581595Z",
     "iopub.status.idle": "2025-06-12T06:07:12.585409Z",
     "shell.execute_reply": "2025-06-12T06:07:12.584643Z",
     "shell.execute_reply.started": "2025-06-12T06:07:12.581836Z"
    }
   },
   "outputs": [],
   "source": [
    "import json\n",
    "import boto3\n",
    "import botocore\n",
    "from IPython.display import display, Markdown\n",
    "import time"
   ]
  },
  {
   "cell_type": "code",
   "execution_count": 10,
   "id": "fda6e414-aaeb-495c-b168-b0e77f673fcf",
   "metadata": {
    "execution": {
     "iopub.execute_input": "2025-06-12T06:07:38.724105Z",
     "iopub.status.busy": "2025-06-12T06:07:38.723438Z",
     "iopub.status.idle": "2025-06-12T06:07:38.799938Z",
     "shell.execute_reply": "2025-06-12T06:07:38.799163Z",
     "shell.execute_reply.started": "2025-06-12T06:07:38.724074Z"
    }
   },
   "outputs": [],
   "source": [
    "session = boto3.session.Session()\n",
    "region = session.region_name\n",
    "bedrock = boto3.client(service_name='bedrock-runtime', region_name=region)"
   ]
  },
  {
   "cell_type": "code",
   "execution_count": 52,
   "id": "6b1d0717-c784-47aa-9a99-ad5b1bb7334a",
   "metadata": {
    "execution": {
     "iopub.execute_input": "2025-06-12T06:49:07.165429Z",
     "iopub.status.busy": "2025-06-12T06:49:07.165037Z",
     "iopub.status.idle": "2025-06-12T06:49:07.169149Z",
     "shell.execute_reply": "2025-06-12T06:49:07.168097Z",
     "shell.execute_reply.started": "2025-06-12T06:49:07.165404Z"
    }
   },
   "outputs": [],
   "source": [
    "# Define model IDs that will be used in this module\n",
    "MODELS = {\n",
    "    \"Titan Text G1 - Lite\": \"amazon.titan-text-lite-v1\",\n",
    "    \"Titan Text G1 - Express\": \"amazon.titan-text-express-v1\"\n",
    "}"
   ]
  },
  {
   "cell_type": "code",
   "execution_count": 17,
   "id": "896c75a5-06f1-40be-938a-ed0f80857071",
   "metadata": {
    "execution": {
     "iopub.execute_input": "2025-06-12T06:30:53.322084Z",
     "iopub.status.busy": "2025-06-12T06:30:53.321731Z",
     "iopub.status.idle": "2025-06-12T06:30:53.325907Z",
     "shell.execute_reply": "2025-06-12T06:30:53.325183Z",
     "shell.execute_reply.started": "2025-06-12T06:30:53.322059Z"
    }
   },
   "outputs": [],
   "source": [
    "def display_response(response, model_name=None):\n",
    "    if model_name:\n",
    "        display(Markdown(f\"### Response from {model_name}\"))\n",
    "    display(Markdown(response))\n",
    "    print(\"\\n\" + \"-\"*80 + \"\\n\")"
   ]
  },
  {
   "cell_type": "code",
   "execution_count": 40,
   "id": "aa06f701-7a3b-4059-98f5-c990369c6538",
   "metadata": {
    "execution": {
     "iopub.execute_input": "2025-06-12T06:44:11.020428Z",
     "iopub.status.busy": "2025-06-12T06:44:11.019663Z",
     "iopub.status.idle": "2025-06-12T06:44:11.024415Z",
     "shell.execute_reply": "2025-06-12T06:44:11.023344Z",
     "shell.execute_reply.started": "2025-06-12T06:44:11.020395Z"
    }
   },
   "outputs": [],
   "source": [
    "text_to_summarize = \"\"\"\n",
    "AWS took all of that feedback from customers, and today we are excited to announce Amazon Bedrock, \\\n",
    "a new service that makes FMs from AI21 Labs, Anthropic, Stability AI, and Amazon accessible via an API. \\\n",
    "Bedrock is the easiest way for customers to build and scale generative AI-based applications using FMs, \\\n",
    "democratizing access for all builders. Bedrock will offer the ability to access a range of powerful FMs \\\n",
    "for text and images—including Amazons Titan FMs, which consist of two new LLMs we're also announcing \\\n",
    "today—through a scalable, reliable, and secure AWS managed service. With Bedrock's serverless experience, \\\n",
    "customers can easily find the right model for what they're trying to get done, get started quickly, privately \\\n",
    "customize FMs with their own data, and easily integrate and deploy them into their applications using the AWS \\\n",
    "tools and capabilities they are familiar with, without having to manage any infrastructure (including integrations \\\n",
    "with Amazon SageMaker ML features like Experiments to test different models and Pipelines to manage their FMs at scale).\n",
    "\"\"\""
   ]
  },
  {
   "cell_type": "code",
   "execution_count": 45,
   "id": "94f40823-89b1-45f2-8400-5edc611b7b1e",
   "metadata": {
    "execution": {
     "iopub.execute_input": "2025-06-12T06:45:47.239366Z",
     "iopub.status.busy": "2025-06-12T06:45:47.239016Z",
     "iopub.status.idle": "2025-06-12T06:45:47.243322Z",
     "shell.execute_reply": "2025-06-12T06:45:47.242351Z",
     "shell.execute_reply.started": "2025-06-12T06:45:47.239342Z"
    }
   },
   "outputs": [],
   "source": [
    "# Create prompt for summarization\n",
    "prompt1 = f\"\"\"Please provide a summary of the following text. Do not add any information that is not mentioned in the text below.\n",
    "<text>\n",
    "{text_to_summarize}\n",
    "</text>\n",
    "\"\"\""
   ]
  },
  {
   "cell_type": "code",
   "execution_count": 47,
   "id": "780ef4d3-f0c4-4304-aa7f-53635243dd08",
   "metadata": {
    "execution": {
     "iopub.execute_input": "2025-06-12T06:47:07.684007Z",
     "iopub.status.busy": "2025-06-12T06:47:07.683644Z",
     "iopub.status.idle": "2025-06-12T06:47:07.687779Z",
     "shell.execute_reply": "2025-06-12T06:47:07.687080Z",
     "shell.execute_reply.started": "2025-06-12T06:47:07.683985Z"
    }
   },
   "outputs": [],
   "source": [
    "prompt2 = \"Explain me about AWS Bedrock\""
   ]
  },
  {
   "cell_type": "code",
   "execution_count": 48,
   "id": "a5972368-f4c7-484b-baf6-c04409ae2cb3",
   "metadata": {
    "execution": {
     "iopub.execute_input": "2025-06-12T06:47:08.786070Z",
     "iopub.status.busy": "2025-06-12T06:47:08.785725Z",
     "iopub.status.idle": "2025-06-12T06:47:08.789969Z",
     "shell.execute_reply": "2025-06-12T06:47:08.789079Z",
     "shell.execute_reply.started": "2025-06-12T06:47:08.786045Z"
    }
   },
   "outputs": [],
   "source": [
    "selected_prompt = prompt2"
   ]
  },
  {
   "cell_type": "code",
   "execution_count": 78,
   "id": "6253bc40-1933-48e7-8128-08c0a520a44c",
   "metadata": {
    "execution": {
     "iopub.execute_input": "2025-06-12T06:54:17.596252Z",
     "iopub.status.busy": "2025-06-12T06:54:17.595954Z",
     "iopub.status.idle": "2025-06-12T06:54:17.599588Z",
     "shell.execute_reply": "2025-06-12T06:54:17.598857Z",
     "shell.execute_reply.started": "2025-06-12T06:54:17.596231Z"
    }
   },
   "outputs": [],
   "source": [
    "titan_lite_body = json.dumps({\n",
    "    \"inputText\": selected_prompt,\n",
    "    \"textGenerationConfig\": {\n",
    "        \"maxTokenCount\": 1000,\n",
    "        \"temperature\": 1,\n",
    "        \"topP\": 0.9\n",
    "    }\n",
    "})"
   ]
  },
  {
   "cell_type": "code",
   "execution_count": 79,
   "id": "1a120c53-5290-4423-b1d8-4e5dfbb07c66",
   "metadata": {
    "execution": {
     "iopub.execute_input": "2025-06-12T06:54:25.082060Z",
     "iopub.status.busy": "2025-06-12T06:54:25.081693Z",
     "iopub.status.idle": "2025-06-12T06:54:25.085630Z",
     "shell.execute_reply": "2025-06-12T06:54:25.084862Z",
     "shell.execute_reply.started": "2025-06-12T06:54:25.082035Z"
    }
   },
   "outputs": [],
   "source": [
    "titan_express_body = json.dumps({\n",
    "    \"inputText\": selected_prompt,\n",
    "    \"textGenerationConfig\": {\n",
    "        \"maxTokenCount\": 1000,\n",
    "        \"temperature\": 1,\n",
    "        \"topP\": 0.9\n",
    "    }\n",
    "})"
   ]
  },
  {
   "cell_type": "code",
   "execution_count": 80,
   "id": "352f85a0-3515-4009-bc34-38a650f7457a",
   "metadata": {
    "execution": {
     "iopub.execute_input": "2025-06-12T06:54:36.316893Z",
     "iopub.status.busy": "2025-06-12T06:54:36.316059Z",
     "iopub.status.idle": "2025-06-12T06:54:38.624025Z",
     "shell.execute_reply": "2025-06-12T06:54:38.623362Z",
     "shell.execute_reply.started": "2025-06-12T06:54:36.316863Z"
    }
   },
   "outputs": [],
   "source": [
    "titan_lite_response = bedrock.invoke_model(\n",
    "        modelId=MODELS[\"Titan Text G1 - Lite\"],\n",
    "        body=titan_lite_body,\n",
    "        accept=\"application/json\",\n",
    "        contentType=\"application/json\"\n",
    "    )\n",
    "titan_lite_response_body = json.loads(titan_lite_response.get('body').read())"
   ]
  },
  {
   "cell_type": "code",
   "execution_count": 81,
   "id": "292f617c-5c07-4f07-81cf-5dca5e7554a0",
   "metadata": {
    "execution": {
     "iopub.execute_input": "2025-06-12T06:54:50.475320Z",
     "iopub.status.busy": "2025-06-12T06:54:50.475050Z",
     "iopub.status.idle": "2025-06-12T06:54:54.214833Z",
     "shell.execute_reply": "2025-06-12T06:54:54.214125Z",
     "shell.execute_reply.started": "2025-06-12T06:54:50.475299Z"
    }
   },
   "outputs": [],
   "source": [
    "titan_express_response = bedrock.invoke_model(\n",
    "        modelId=MODELS[\"Titan Text G1 - Express\"],\n",
    "        body=titan_express_body,\n",
    "        accept=\"application/json\",\n",
    "        contentType=\"application/json\"\n",
    "    )\n",
    "titan_express_response_body = json.loads(titan_express_response.get('body').read())"
   ]
  },
  {
   "cell_type": "code",
   "execution_count": 82,
   "id": "a0a45fdf-66a9-4e42-b368-8f9adc637998",
   "metadata": {
    "execution": {
     "iopub.execute_input": "2025-06-12T06:55:21.171831Z",
     "iopub.status.busy": "2025-06-12T06:55:21.171478Z",
     "iopub.status.idle": "2025-06-12T06:55:21.179659Z",
     "shell.execute_reply": "2025-06-12T06:55:21.176924Z",
     "shell.execute_reply.started": "2025-06-12T06:55:21.171806Z"
    }
   },
   "outputs": [
    {
     "name": "stdout",
     "output_type": "stream",
     "text": [
      "\n",
      "Amazon Bedrock is a managed service that makes foundation models from leading AI startup and Amazon's own Titan models available through APIs. The Amazon Bedrock service makes foundation models from leading AI startup and Amazon Titan models available through APIs.  For up-to-date information on Amazon Bedrock and how 3P models are approved, endorsed or selected please see the provided documentation and relevant FAQs.\n"
     ]
    }
   ],
   "source": [
    "# print(response_body[\"outputText\"])\n",
    "print(titan_lite_response_body.get(\"results\")[0][\"outputText\"])"
   ]
  },
  {
   "cell_type": "code",
   "execution_count": 83,
   "id": "26f0adb4-45b4-42b7-9a29-7b25728a6261",
   "metadata": {
    "execution": {
     "iopub.execute_input": "2025-06-12T06:55:23.247772Z",
     "iopub.status.busy": "2025-06-12T06:55:23.247480Z",
     "iopub.status.idle": "2025-06-12T06:55:23.251815Z",
     "shell.execute_reply": "2025-06-12T06:55:23.251167Z",
     "shell.execute_reply.started": "2025-06-12T06:55:23.247749Z"
    }
   },
   "outputs": [
    {
     "name": "stdout",
     "output_type": "stream",
     "text": [
      "\n",
      "Amazon Bedrock is a managed service that makes foundation models from leading AI startup and Amazon's own Titan models available through APIs. Your models, managed metadatas, and inferences are automatically and instantly available through APIs. Amazon Bedrock is a fully managed service that makes foundation models from leading AI startup and Amazon's own Titan models available through APIs. Your models, managed metadatas, and inferences are automatically and instantly available through APIs. You can visit the bedrock product page to learn more.\n"
     ]
    }
   ],
   "source": [
    "# print(response_body[\"outputText\"])\n",
    "print(titan_express_response_body.get(\"results\")[0][\"outputText\"])"
   ]
  },
  {
   "cell_type": "code",
   "execution_count": null,
   "id": "6e0fc76d-9e18-4102-a536-7807bb4ef0c5",
   "metadata": {},
   "outputs": [],
   "source": []
  }
 ],
 "metadata": {
  "kernelspec": {
   "display_name": "Python 3 (ipykernel)",
   "language": "python",
   "name": "python3"
  },
  "language_info": {
   "codemirror_mode": {
    "name": "ipython",
    "version": 3
   },
   "file_extension": ".py",
   "mimetype": "text/x-python",
   "name": "python",
   "nbconvert_exporter": "python",
   "pygments_lexer": "ipython3",
   "version": "3.12.9"
  }
 },
 "nbformat": 4,
 "nbformat_minor": 5
}
