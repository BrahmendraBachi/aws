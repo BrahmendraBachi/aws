{
 "cells": [
  {
   "cell_type": "code",
   "execution_count": 1,
   "id": "68400d6f-f5a3-4dd8-bb31-bc6198a36038",
   "metadata": {
    "execution": {
     "iopub.execute_input": "2025-06-13T06:08:39.945218Z",
     "iopub.status.busy": "2025-06-13T06:08:39.944924Z",
     "iopub.status.idle": "2025-06-13T06:08:41.600477Z",
     "shell.execute_reply": "2025-06-13T06:08:41.599492Z",
     "shell.execute_reply.started": "2025-06-13T06:08:39.945196Z"
    }
   },
   "outputs": [
    {
     "name": "stdout",
     "output_type": "stream",
     "text": [
      "Requirement already satisfied: boto3 in /opt/conda/lib/python3.12/site-packages (1.37.1)\n",
      "Requirement already satisfied: botocore<1.38.0,>=1.37.1 in /opt/conda/lib/python3.12/site-packages (from boto3) (1.37.1)\n",
      "Requirement already satisfied: jmespath<2.0.0,>=0.7.1 in /opt/conda/lib/python3.12/site-packages (from boto3) (1.0.1)\n",
      "Requirement already satisfied: s3transfer<0.12.0,>=0.11.0 in /opt/conda/lib/python3.12/site-packages (from boto3) (0.11.3)\n",
      "Requirement already satisfied: python-dateutil<3.0.0,>=2.1 in /opt/conda/lib/python3.12/site-packages (from botocore<1.38.0,>=1.37.1->boto3) (2.9.0.post0)\n",
      "Requirement already satisfied: urllib3!=2.2.0,<3,>=1.25.4 in /opt/conda/lib/python3.12/site-packages (from botocore<1.38.0,>=1.37.1->boto3) (1.26.19)\n",
      "Requirement already satisfied: six>=1.5 in /opt/conda/lib/python3.12/site-packages (from python-dateutil<3.0.0,>=2.1->botocore<1.38.0,>=1.37.1->boto3) (1.17.0)\n",
      "Note: you may need to restart the kernel to use updated packages.\n"
     ]
    }
   ],
   "source": [
    "%pip install boto3"
   ]
  },
  {
   "cell_type": "code",
   "execution_count": 2,
   "id": "0825f3dc-dbd7-4c6a-bf14-56c111fc8704",
   "metadata": {
    "execution": {
     "iopub.execute_input": "2025-06-13T06:08:46.591271Z",
     "iopub.status.busy": "2025-06-13T06:08:46.590741Z",
     "iopub.status.idle": "2025-06-13T06:08:46.797597Z",
     "shell.execute_reply": "2025-06-13T06:08:46.796913Z",
     "shell.execute_reply.started": "2025-06-13T06:08:46.591238Z"
    }
   },
   "outputs": [],
   "source": [
    "import json\n",
    "import os\n",
    "import sys\n",
    "\n",
    "import boto3"
   ]
  },
  {
   "cell_type": "code",
   "execution_count": 3,
   "id": "9d25bfa3-d33a-4dd6-a51f-945feb4369f1",
   "metadata": {
    "execution": {
     "iopub.execute_input": "2025-06-13T06:08:58.312391Z",
     "iopub.status.busy": "2025-06-13T06:08:58.311666Z",
     "iopub.status.idle": "2025-06-13T06:08:58.383790Z",
     "shell.execute_reply": "2025-06-13T06:08:58.381374Z",
     "shell.execute_reply.started": "2025-06-13T06:08:58.312361Z"
    }
   },
   "outputs": [],
   "source": [
    "client = boto3.client(\"bedrock-runtime\")"
   ]
  },
  {
   "cell_type": "code",
   "execution_count": 4,
   "id": "bedb6690-8164-4cf4-93af-cbdceb956cf7",
   "metadata": {
    "execution": {
     "iopub.execute_input": "2025-06-13T06:09:06.206533Z",
     "iopub.status.busy": "2025-06-13T06:09:06.206018Z",
     "iopub.status.idle": "2025-06-13T06:09:06.209940Z",
     "shell.execute_reply": "2025-06-13T06:09:06.209100Z",
     "shell.execute_reply.started": "2025-06-13T06:09:06.206504Z"
    }
   },
   "outputs": [],
   "source": [
    "prompt_data = \"\"\"\n",
    "Tweet: \"I hate it when my phone battery dies.”: Sentiment: Negative\n",
    "Tweet: \"My day has been great”: Sentiment: Positive\n",
    "Tweet: \"This is the link to the article”: Sentiment: Neutral\n",
    "Tweet: \"This new music video was incredible” Sentiment:\n",
    "\"\"\" "
   ]
  },
  {
   "cell_type": "code",
   "execution_count": 15,
   "id": "0d8b4675-1c12-4cfb-8cd9-2f5ed26fc0fd",
   "metadata": {
    "execution": {
     "iopub.execute_input": "2025-06-13T06:12:06.527946Z",
     "iopub.status.busy": "2025-06-13T06:12:06.527372Z",
     "iopub.status.idle": "2025-06-13T06:12:07.146002Z",
     "shell.execute_reply": "2025-06-13T06:12:07.145215Z",
     "shell.execute_reply.started": "2025-06-13T06:12:06.527917Z"
    }
   },
   "outputs": [],
   "source": [
    "# Titan Text G1 - Express\": \"amazon.titan-text-express-v1\"\n",
    "# \"Titan Text G1 - Lite\": \"amazon.titan-text-lite-v1\",\n",
    "\n",
    "resp = client.invoke_model(\n",
    "    modelId='amazon.titan-text-lite-v1',\n",
    "    body=json.dumps({\n",
    "        \"inputText\": prompt_data\n",
    "    })\n",
    ")"
   ]
  },
  {
   "cell_type": "code",
   "execution_count": 16,
   "id": "f102a397-2b61-4022-acef-b48b1e20fb4a",
   "metadata": {
    "execution": {
     "iopub.execute_input": "2025-06-13T06:12:07.147740Z",
     "iopub.status.busy": "2025-06-13T06:12:07.147427Z",
     "iopub.status.idle": "2025-06-13T06:12:07.151884Z",
     "shell.execute_reply": "2025-06-13T06:12:07.151100Z",
     "shell.execute_reply.started": "2025-06-13T06:12:07.147711Z"
    }
   },
   "outputs": [],
   "source": [
    "body = json.loads(resp.get(\"body\").read())"
   ]
  },
  {
   "cell_type": "code",
   "execution_count": 17,
   "id": "a969048a-ae46-433a-b541-1e14d81ba30c",
   "metadata": {
    "execution": {
     "iopub.execute_input": "2025-06-13T06:12:08.014602Z",
     "iopub.status.busy": "2025-06-13T06:12:08.013887Z",
     "iopub.status.idle": "2025-06-13T06:12:08.018424Z",
     "shell.execute_reply": "2025-06-13T06:12:08.017857Z",
     "shell.execute_reply.started": "2025-06-13T06:12:08.014572Z"
    }
   },
   "outputs": [
    {
     "data": {
      "text/plain": [
       "{'inputTextTokenCount': 67,\n",
       " 'results': [{'tokenCount': 5,\n",
       "   'outputText': 'Sentiment: Positive',\n",
       "   'completionReason': 'FINISH'}]}"
      ]
     },
     "execution_count": 17,
     "metadata": {},
     "output_type": "execute_result"
    }
   ],
   "source": [
    "body"
   ]
  },
  {
   "cell_type": "code",
   "execution_count": 18,
   "id": "8ded3d4e-101e-45d1-9731-0a72f530d0a6",
   "metadata": {
    "execution": {
     "iopub.execute_input": "2025-06-13T06:12:08.738166Z",
     "iopub.status.busy": "2025-06-13T06:12:08.737879Z",
     "iopub.status.idle": "2025-06-13T06:12:08.743190Z",
     "shell.execute_reply": "2025-06-13T06:12:08.742319Z",
     "shell.execute_reply.started": "2025-06-13T06:12:08.738146Z"
    }
   },
   "outputs": [
    {
     "data": {
      "text/plain": [
       "'Sentiment: Positive'"
      ]
     },
     "execution_count": 18,
     "metadata": {},
     "output_type": "execute_result"
    }
   ],
   "source": [
    "body['results'][0]['outputText']"
   ]
  },
  {
   "cell_type": "code",
   "execution_count": null,
   "id": "1d10a875-fd76-45f9-a856-e15e59042e4d",
   "metadata": {},
   "outputs": [],
   "source": []
  }
 ],
 "metadata": {
  "kernelspec": {
   "display_name": "Python 3 (ipykernel)",
   "language": "python",
   "name": "python3"
  },
  "language_info": {
   "codemirror_mode": {
    "name": "ipython",
    "version": 3
   },
   "file_extension": ".py",
   "mimetype": "text/x-python",
   "name": "python",
   "nbconvert_exporter": "python",
   "pygments_lexer": "ipython3",
   "version": "3.12.9"
  }
 },
 "nbformat": 4,
 "nbformat_minor": 5
}
