{
 "cells": [
  {
   "cell_type": "code",
   "execution_count": null,
   "id": "c097fd45-931e-4779-ab92-618b6b387bb7",
   "metadata": {
    "execution": {
     "iopub.execute_input": "2025-06-13T06:13:00.677287Z",
     "iopub.status.busy": "2025-06-13T06:13:00.676718Z",
     "iopub.status.idle": "2025-06-13T06:13:02.451635Z",
     "shell.execute_reply": "2025-06-13T06:13:02.450736Z",
     "shell.execute_reply.started": "2025-06-13T06:13:00.677260Z"
    }
   },
   "outputs": [
    {
     "name": "stdout",
     "output_type": "stream",
     "text": [
      "Requirement already satisfied: boto3 in /opt/conda/lib/python3.12/site-packages (1.37.1)\n",
      "Requirement already satisfied: botocore<1.38.0,>=1.37.1 in /opt/conda/lib/python3.12/site-packages (from boto3) (1.37.1)\n",
      "Requirement already satisfied: jmespath<2.0.0,>=0.7.1 in /opt/conda/lib/python3.12/site-packages (from boto3) (1.0.1)\n",
      "Requirement already satisfied: s3transfer<0.12.0,>=0.11.0 in /opt/conda/lib/python3.12/site-packages (from boto3) (0.11.3)\n",
      "Requirement already satisfied: python-dateutil<3.0.0,>=2.1 in /opt/conda/lib/python3.12/site-packages (from botocore<1.38.0,>=1.37.1->boto3) (2.9.0.post0)\n",
      "Requirement already satisfied: urllib3!=2.2.0,<3,>=1.25.4 in /opt/conda/lib/python3.12/site-packages (from botocore<1.38.0,>=1.37.1->boto3) (1.26.19)\n",
      "Requirement already satisfied: six>=1.5 in /opt/conda/lib/python3.12/site-packages (from python-dateutil<3.0.0,>=2.1->botocore<1.38.0,>=1.37.1->boto3) (1.17.0)\n",
      "Note: you may need to restart the kernel to use updated packages.\n"
     ]
    }
   ],
   "source": [
    "%pip install boto3"
   ]
  },
  {
   "cell_type": "code",
   "execution_count": 2,
   "id": "b98b38c1-3b76-4a86-bec3-cde3ceba3e6d",
   "metadata": {
    "execution": {
     "iopub.execute_input": "2025-06-13T06:13:07.359242Z",
     "iopub.status.busy": "2025-06-13T06:13:07.358580Z",
     "iopub.status.idle": "2025-06-13T06:13:07.566033Z",
     "shell.execute_reply": "2025-06-13T06:13:07.565341Z",
     "shell.execute_reply.started": "2025-06-13T06:13:07.359210Z"
    }
   },
   "outputs": [],
   "source": [
    "import json\n",
    "import os\n",
    "import sys\n",
    "\n",
    "import boto3"
   ]
  },
  {
   "cell_type": "code",
   "execution_count": 3,
   "id": "3a91a932-de4d-4b61-89c6-ac214dd4320d",
   "metadata": {
    "execution": {
     "iopub.execute_input": "2025-06-13T06:13:16.285567Z",
     "iopub.status.busy": "2025-06-13T06:13:16.284753Z",
     "iopub.status.idle": "2025-06-13T06:13:16.355387Z",
     "shell.execute_reply": "2025-06-13T06:13:16.354603Z",
     "shell.execute_reply.started": "2025-06-13T06:13:16.285535Z"
    }
   },
   "outputs": [],
   "source": [
    "client = boto3.client(\"bedrock-runtime\")"
   ]
  },
  {
   "cell_type": "code",
   "execution_count": 29,
   "id": "e041a571-d801-47cb-a5dd-7c275e6957dc",
   "metadata": {
    "execution": {
     "iopub.execute_input": "2025-06-13T06:22:40.040251Z",
     "iopub.status.busy": "2025-06-13T06:22:40.039382Z",
     "iopub.status.idle": "2025-06-13T06:22:40.055982Z",
     "shell.execute_reply": "2025-06-13T06:22:40.049764Z",
     "shell.execute_reply.started": "2025-06-13T06:22:40.040213Z"
    }
   },
   "outputs": [],
   "source": [
    "prompt_data = \"\"\"\n",
    "On a given week, the viewers for a TV channel were\n",
    "Monday: 6500 viewers\n",
    "Tuesday: 6400 viewers\n",
    "Wednesday: 6300 viewers\n",
    "\n",
    "\n",
    "Question: How many viewers can we expect on Friday?\n",
    "Answer: Based on the numbers given and without any more information, there is a daily decrease of 100 viewers. If we assume this trend will continue during the following days, we can expect 6200 viewers on the next day that would be Thursday, and therefore 6100 viewers on the next day that would be Friday.\n",
    "\n",
    "Question: How many viewers can we expect on Saturday? (Think Step-by-Step)\n",
    "Answer: ?\n",
    "\n",
    "Solve the anwser\n",
    "\"\"\" "
   ]
  },
  {
   "cell_type": "code",
   "execution_count": 47,
   "id": "4ec6baab-187c-40e0-8fbe-011f4a7ed086",
   "metadata": {
    "execution": {
     "iopub.execute_input": "2025-06-13T06:33:27.539612Z",
     "iopub.status.busy": "2025-06-13T06:33:27.539331Z",
     "iopub.status.idle": "2025-06-13T06:33:32.689179Z",
     "shell.execute_reply": "2025-06-13T06:33:32.688444Z",
     "shell.execute_reply.started": "2025-06-13T06:33:27.539593Z"
    }
   },
   "outputs": [],
   "source": [
    "# Titan Text G1 - Lite: \"amazon.titan-text-lite-v1\",\n",
    "# Titan Text G1 - Express: \"amazon.titan-text-express-v1\"\n",
    "\n",
    "resp = client.invoke_model(\n",
    "    modelId='amazon.titan-text-express-v1',\n",
    "    contentType='application/json',\n",
    "    accept='application/json',\n",
    "    body=json.dumps({\n",
    "        \"inputText\": prompt_data,\n",
    "        \"textGenerationConfig\": {\n",
    "            \"maxTokenCount\": 200,\n",
    "            \"temperature\": 1.0\n",
    "        }\n",
    "    })\n",
    ")"
   ]
  },
  {
   "cell_type": "code",
   "execution_count": 48,
   "id": "fee93741-2b6b-4990-9fbf-3d4a191ae03e",
   "metadata": {
    "execution": {
     "iopub.execute_input": "2025-06-13T06:33:32.691245Z",
     "iopub.status.busy": "2025-06-13T06:33:32.690689Z",
     "iopub.status.idle": "2025-06-13T06:33:32.696465Z",
     "shell.execute_reply": "2025-06-13T06:33:32.695535Z",
     "shell.execute_reply.started": "2025-06-13T06:33:32.691214Z"
    }
   },
   "outputs": [
    {
     "data": {
      "text/plain": [
       "{'ResponseMetadata': {'RequestId': 'b3afa945-2f9c-4adc-9407-645c805b4af1',\n",
       "  'HTTPStatusCode': 200,\n",
       "  'HTTPHeaders': {'date': 'Fri, 13 Jun 2025 06:33:32 GMT',\n",
       "   'content-type': 'application/json',\n",
       "   'content-length': '414',\n",
       "   'connection': 'keep-alive',\n",
       "   'x-amzn-requestid': 'b3afa945-2f9c-4adc-9407-645c805b4af1',\n",
       "   'x-amzn-bedrock-invocation-latency': '5140',\n",
       "   'x-amzn-bedrock-output-token-count': '131',\n",
       "   'x-amzn-bedrock-input-token-count': '159'},\n",
       "  'RetryAttempts': 0},\n",
       " 'contentType': 'application/json',\n",
       " 'body': <botocore.response.StreamingBody at 0x7fb31c399090>}"
      ]
     },
     "execution_count": 48,
     "metadata": {},
     "output_type": "execute_result"
    }
   ],
   "source": [
    "resp"
   ]
  },
  {
   "cell_type": "code",
   "execution_count": 49,
   "id": "03e5d34e-7302-4fa3-b14c-354fb17b318e",
   "metadata": {
    "execution": {
     "iopub.execute_input": "2025-06-13T06:33:32.698169Z",
     "iopub.status.busy": "2025-06-13T06:33:32.697634Z",
     "iopub.status.idle": "2025-06-13T06:33:32.704197Z",
     "shell.execute_reply": "2025-06-13T06:33:32.703623Z",
     "shell.execute_reply.started": "2025-06-13T06:33:32.698139Z"
    },
    "scrolled": true
   },
   "outputs": [
    {
     "data": {
      "text/plain": [
       "{'inputTextTokenCount': 159,\n",
       " 'results': [{'tokenCount': 131,\n",
       "   'outputText': 'The viewers for a TV channel were Monday: 6500 viewers, Tuesday: 6400 viewers, Wednesday: 6300 viewers\\nTuesday: 6400 viewers - 6500 viewers = -100 viewers\\nThursday: 6200 viewers - 100 viewers = 6100 viewers\\nFriday: 6100 viewers - 100 viewers = 6000 viewers\\nSaturday: 6000 viewers + 100 viewers = 6100 viewers',\n",
       "   'completionReason': 'FINISH'}]}"
      ]
     },
     "execution_count": 49,
     "metadata": {},
     "output_type": "execute_result"
    }
   ],
   "source": [
    "body = json.loads(resp.get(\"body\").read())\n",
    "\n",
    "body"
   ]
  },
  {
   "cell_type": "code",
   "execution_count": 50,
   "id": "5b0dd42a-d6b6-4aa9-a551-097f15d82069",
   "metadata": {
    "execution": {
     "iopub.execute_input": "2025-06-13T06:34:07.835164Z",
     "iopub.status.busy": "2025-06-13T06:34:07.834425Z",
     "iopub.status.idle": "2025-06-13T06:34:07.839546Z",
     "shell.execute_reply": "2025-06-13T06:34:07.838691Z",
     "shell.execute_reply.started": "2025-06-13T06:34:07.835139Z"
    }
   },
   "outputs": [
    {
     "data": {
      "text/plain": [
       "'The viewers for a TV channel were Monday: 6500 viewers, Tuesday: 6400 viewers, Wednesday: 6300 viewers\\nTuesday: 6400 viewers - 6500 viewers = -100 viewers\\nThursday: 6200 viewers - 100 viewers = 6100 viewers\\nFriday: 6100 viewers - 100 viewers = 6000 viewers\\nSaturday: 6000 viewers + 100 viewers = 6100 viewers'"
      ]
     },
     "execution_count": 50,
     "metadata": {},
     "output_type": "execute_result"
    }
   ],
   "source": [
    "body['results'][0]['outputText']"
   ]
  },
  {
   "cell_type": "code",
   "execution_count": null,
   "id": "abc64f02-6bfe-4c57-a355-99de87ad6571",
   "metadata": {},
   "outputs": [],
   "source": []
  }
 ],
 "metadata": {
  "kernelspec": {
   "display_name": "Python 3 (ipykernel)",
   "language": "python",
   "name": "python3"
  },
  "language_info": {
   "codemirror_mode": {
    "name": "ipython",
    "version": 3
   },
   "file_extension": ".py",
   "mimetype": "text/x-python",
   "name": "python",
   "nbconvert_exporter": "python",
   "pygments_lexer": "ipython3",
   "version": "3.12.9"
  }
 },
 "nbformat": 4,
 "nbformat_minor": 5
}
