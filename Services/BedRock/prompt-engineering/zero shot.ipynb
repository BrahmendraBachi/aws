{
 "cells": [
  {
   "cell_type": "code",
   "execution_count": 1,
   "id": "a65175d9-d636-4061-9602-72ca4c836d48",
   "metadata": {
    "execution": {
     "iopub.execute_input": "2025-06-13T05:47:27.945345Z",
     "iopub.status.busy": "2025-06-13T05:47:27.944742Z",
     "iopub.status.idle": "2025-06-13T05:47:31.054473Z",
     "shell.execute_reply": "2025-06-13T05:47:31.052821Z",
     "shell.execute_reply.started": "2025-06-13T05:47:27.945316Z"
    }
   },
   "outputs": [
    {
     "name": "stdout",
     "output_type": "stream",
     "text": [
      "Requirement already satisfied: boto3 in /opt/conda/lib/python3.12/site-packages (1.37.1)\n",
      "Requirement already satisfied: botocore<1.38.0,>=1.37.1 in /opt/conda/lib/python3.12/site-packages (from boto3) (1.37.1)\n",
      "Requirement already satisfied: jmespath<2.0.0,>=0.7.1 in /opt/conda/lib/python3.12/site-packages (from boto3) (1.0.1)\n",
      "Requirement already satisfied: s3transfer<0.12.0,>=0.11.0 in /opt/conda/lib/python3.12/site-packages (from boto3) (0.11.3)\n",
      "Requirement already satisfied: python-dateutil<3.0.0,>=2.1 in /opt/conda/lib/python3.12/site-packages (from botocore<1.38.0,>=1.37.1->boto3) (2.9.0.post0)\n",
      "Requirement already satisfied: urllib3!=2.2.0,<3,>=1.25.4 in /opt/conda/lib/python3.12/site-packages (from botocore<1.38.0,>=1.37.1->boto3) (1.26.19)\n",
      "Requirement already satisfied: six>=1.5 in /opt/conda/lib/python3.12/site-packages (from python-dateutil<3.0.0,>=2.1->botocore<1.38.0,>=1.37.1->boto3) (1.17.0)\n",
      "Note: you may need to restart the kernel to use updated packages.\n"
     ]
    }
   ],
   "source": [
    "%pip install boto3"
   ]
  },
  {
   "cell_type": "code",
   "execution_count": 2,
   "id": "21e7e612-cfca-4940-8c9f-d841c23b0f2f",
   "metadata": {
    "execution": {
     "iopub.execute_input": "2025-06-13T05:47:40.792572Z",
     "iopub.status.busy": "2025-06-13T05:47:40.792222Z",
     "iopub.status.idle": "2025-06-13T05:47:41.145915Z",
     "shell.execute_reply": "2025-06-13T05:47:41.145263Z",
     "shell.execute_reply.started": "2025-06-13T05:47:40.792540Z"
    }
   },
   "outputs": [],
   "source": [
    "import json\n",
    "import os\n",
    "import sys\n",
    "\n",
    "import boto3"
   ]
  },
  {
   "cell_type": "code",
   "execution_count": 5,
   "id": "61d390e4-d125-4b91-af43-1e3c4a5b509e",
   "metadata": {
    "execution": {
     "iopub.execute_input": "2025-06-13T05:48:20.333808Z",
     "iopub.status.busy": "2025-06-13T05:48:20.332982Z",
     "iopub.status.idle": "2025-06-13T05:48:20.350514Z",
     "shell.execute_reply": "2025-06-13T05:48:20.349782Z",
     "shell.execute_reply.started": "2025-06-13T05:48:20.333717Z"
    }
   },
   "outputs": [],
   "source": [
    "session = boto3.session.Session()\n",
    "region = session.region_name\n",
    "bedrock = boto3.client(service_name='bedrock-runtime', region_name=region)"
   ]
  },
  {
   "cell_type": "code",
   "execution_count": 19,
   "id": "a8bb437d-abc5-4280-a40a-0b9230a01f06",
   "metadata": {
    "execution": {
     "iopub.execute_input": "2025-06-13T06:02:10.628882Z",
     "iopub.status.busy": "2025-06-13T06:02:10.628496Z",
     "iopub.status.idle": "2025-06-13T06:02:10.632996Z",
     "shell.execute_reply": "2025-06-13T06:02:10.632173Z",
     "shell.execute_reply.started": "2025-06-13T06:02:10.628857Z"
    }
   },
   "outputs": [],
   "source": [
    "prompt_data = \"\"\"\n",
    "Human: \n",
    "Sulfuric acid reacts with sodium chloride, and gives <chemical1>_____</chemical1> and <chemical2>_____</chemical2>:\n",
    "\n",
    "Assistant:\"\"\""
   ]
  },
  {
   "cell_type": "code",
   "execution_count": 33,
   "id": "caaf9587-24cb-4c6f-b202-79126e43115b",
   "metadata": {
    "execution": {
     "iopub.execute_input": "2025-06-13T06:34:22.998535Z",
     "iopub.status.busy": "2025-06-13T06:34:22.998229Z",
     "iopub.status.idle": "2025-06-13T06:34:31.591171Z",
     "shell.execute_reply": "2025-06-13T06:34:31.590431Z",
     "shell.execute_reply.started": "2025-06-13T06:34:22.998514Z"
    }
   },
   "outputs": [],
   "source": [
    "# Titan Text G1 - Express\": \"amazon.titan-text-express-v1\"\n",
    "# \"Titan Text G1 - Lite\": \"amazon.titan-text-lite-v1\",\n",
    "\n",
    "\n",
    "resp = client.invoke_model(\n",
    "    modelId='amazon.titan-text-express-v1',\n",
    "    contentType='application/json',\n",
    "    accept='application/json',\n",
    "    body=json.dumps({\n",
    "        \"inputText\": prompt_data,\n",
    "        \"textGenerationConfig\": {\n",
    "            \"maxTokenCount\": 200,\n",
    "            \"temperature\": 1.0\n",
    "        }\n",
    "    })\n",
    ")"
   ]
  },
  {
   "cell_type": "code",
   "execution_count": 34,
   "id": "645dbf2c-f68f-423c-8f1a-ff8b1df9334b",
   "metadata": {
    "execution": {
     "iopub.execute_input": "2025-06-13T06:34:31.593105Z",
     "iopub.status.busy": "2025-06-13T06:34:31.592716Z",
     "iopub.status.idle": "2025-06-13T06:34:31.598739Z",
     "shell.execute_reply": "2025-06-13T06:34:31.598075Z",
     "shell.execute_reply.started": "2025-06-13T06:34:31.593072Z"
    }
   },
   "outputs": [
    {
     "data": {
      "text/plain": [
       "{'ResponseMetadata': {'RequestId': 'cb332bc0-4eb9-4b1a-896a-f786a3673d8d',\n",
       "  'HTTPStatusCode': 200,\n",
       "  'HTTPHeaders': {'date': 'Fri, 13 Jun 2025 06:34:31 GMT',\n",
       "   'content-type': 'application/json',\n",
       "   'content-length': '873',\n",
       "   'connection': 'keep-alive',\n",
       "   'x-amzn-requestid': 'cb332bc0-4eb9-4b1a-896a-f786a3673d8d',\n",
       "   'x-amzn-bedrock-invocation-latency': '8182',\n",
       "   'x-amzn-bedrock-output-token-count': '200',\n",
       "   'x-amzn-bedrock-input-token-count': '40'},\n",
       "  'RetryAttempts': 1},\n",
       " 'contentType': 'application/json',\n",
       " 'body': <botocore.response.StreamingBody at 0x7f06d9b10e50>}"
      ]
     },
     "execution_count": 34,
     "metadata": {},
     "output_type": "execute_result"
    }
   ],
   "source": [
    "resp"
   ]
  },
  {
   "cell_type": "code",
   "execution_count": 35,
   "id": "b795204c-a1d7-40ba-a675-0363bf1730ed",
   "metadata": {
    "execution": {
     "iopub.execute_input": "2025-06-13T06:34:31.599791Z",
     "iopub.status.busy": "2025-06-13T06:34:31.599545Z",
     "iopub.status.idle": "2025-06-13T06:34:31.605195Z",
     "shell.execute_reply": "2025-06-13T06:34:31.604363Z",
     "shell.execute_reply.started": "2025-06-13T06:34:31.599771Z"
    }
   },
   "outputs": [],
   "source": [
    "body = json.loads(resp.get(\"body\").read())"
   ]
  },
  {
   "cell_type": "code",
   "execution_count": 36,
   "id": "594c780d-985f-4281-a327-2a19f6fde69b",
   "metadata": {
    "execution": {
     "iopub.execute_input": "2025-06-13T06:34:31.606809Z",
     "iopub.status.busy": "2025-06-13T06:34:31.606481Z",
     "iopub.status.idle": "2025-06-13T06:34:31.612992Z",
     "shell.execute_reply": "2025-06-13T06:34:31.612184Z",
     "shell.execute_reply.started": "2025-06-13T06:34:31.606788Z"
    }
   },
   "outputs": [
    {
     "data": {
      "text/plain": [
       "{'inputTextTokenCount': 40,\n",
       " 'results': [{'tokenCount': 200,\n",
       "   'outputText': '\\nHere are the completed formulas of the chemical reactions that result from the interaction of Sulfuric Acid with Sodium Chloride:\\n\\n1. Chemical Reaction 1: Sulfuric Acid + Sodium Chloride → Sodium Sulfate + Hydrochloric Acid\\n\\nReaction 1 involves the interaction between sulfuric acid (H2SO4) and sodium chloride (NaCl). In this reaction, sodium chloride acts as a reactant, and sulfuric acid acts as a reactant. During the reaction, sodium chloride breaks down into its constituent ions, sodium (Na+) and chloride (Cl-), while sulfuric acid produces hydrogen ions (H+) and sulfate ions (SO42-). The reaction produces sodium sulfate (Na2SO4) and hydrochloric acid (HCl) as the products.\\n\\n2. Chemical Reaction 2: Sulfuric Acid + Sodium Chloride → Sodium Hydroxide',\n",
       "   'completionReason': 'LENGTH'}]}"
      ]
     },
     "execution_count": 36,
     "metadata": {},
     "output_type": "execute_result"
    }
   ],
   "source": [
    "body"
   ]
  },
  {
   "cell_type": "code",
   "execution_count": 37,
   "id": "8d2be54e-c611-43f2-aa62-040112548b15",
   "metadata": {
    "execution": {
     "iopub.execute_input": "2025-06-13T06:34:36.014275Z",
     "iopub.status.busy": "2025-06-13T06:34:36.013609Z",
     "iopub.status.idle": "2025-06-13T06:34:36.021845Z",
     "shell.execute_reply": "2025-06-13T06:34:36.019729Z",
     "shell.execute_reply.started": "2025-06-13T06:34:36.014248Z"
    }
   },
   "outputs": [
    {
     "data": {
      "text/plain": [
       "'\\nHere are the completed formulas of the chemical reactions that result from the interaction of Sulfuric Acid with Sodium Chloride:\\n\\n1. Chemical Reaction 1: Sulfuric Acid + Sodium Chloride → Sodium Sulfate + Hydrochloric Acid\\n\\nReaction 1 involves the interaction between sulfuric acid (H2SO4) and sodium chloride (NaCl). In this reaction, sodium chloride acts as a reactant, and sulfuric acid acts as a reactant. During the reaction, sodium chloride breaks down into its constituent ions, sodium (Na+) and chloride (Cl-), while sulfuric acid produces hydrogen ions (H+) and sulfate ions (SO42-). The reaction produces sodium sulfate (Na2SO4) and hydrochloric acid (HCl) as the products.\\n\\n2. Chemical Reaction 2: Sulfuric Acid + Sodium Chloride → Sodium Hydroxide'"
      ]
     },
     "execution_count": 37,
     "metadata": {},
     "output_type": "execute_result"
    }
   ],
   "source": [
    "body['results'][0]['outputText']"
   ]
  }
 ],
 "metadata": {
  "kernelspec": {
   "display_name": "Python 3 (ipykernel)",
   "language": "python",
   "name": "python3"
  },
  "language_info": {
   "codemirror_mode": {
    "name": "ipython",
    "version": 3
   },
   "file_extension": ".py",
   "mimetype": "text/x-python",
   "name": "python",
   "nbconvert_exporter": "python",
   "pygments_lexer": "ipython3",
   "version": "3.12.9"
  }
 },
 "nbformat": 4,
 "nbformat_minor": 5
}
